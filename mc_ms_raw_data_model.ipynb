{
  "nbformat": 4,
  "nbformat_minor": 0,
  "metadata": {
    "colab": {
      "provenance": [],
      "authorship_tag": "ABX9TyPDVVNZyPdt5fj/YeWU/cun",
      "include_colab_link": true
    },
    "kernelspec": {
      "name": "python3",
      "display_name": "Python 3"
    },
    "language_info": {
      "name": "python"
    }
  },
  "cells": [
    {
      "cell_type": "markdown",
      "metadata": {
        "id": "view-in-github",
        "colab_type": "text"
      },
      "source": [
        "<a href=\"https://colab.research.google.com/github/zia207/GCMS/blob/main/mc_ms_raw_data_model.ipynb\" target=\"_parent\"><img src=\"https://colab.research.google.com/assets/colab-badge.svg\" alt=\"Open In Colab\"/></a>"
      ]
    },
    {
      "cell_type": "markdown",
      "source": [
        "# PyMassSpec - Python Toolkit for Mass Spectrometry\n",
        "\n",
        "Zia Ahmed, RENEW, University at Buffalo\n",
        "\n"
      ],
      "metadata": {
        "id": "QGkEahlcbvNF"
      }
    },
    {
      "cell_type": "markdown",
      "source": [
        "[PyMassSpec](https://pymassspec.readthedocs.io/en/master/index.html#) is a Python package for processing gas chromatography-mass spectrometry data. PyMassSpec provides a framework and a set of components for rapid development and testing of methods for processing of chromatography–mass spectrometry data. PyMassSpec can be used interactively through the Python shell, in a Jupyter Notebook, or the functions can be collected into scripts when it is preferable to perform data processing in the batch mode."
      ],
      "metadata": {
        "id": "EP3IvRVSiVFX"
      }
    },
    {
      "cell_type": "code",
      "source": [
        "! pip install PyMassSpec"
      ],
      "metadata": {
        "colab": {
          "base_uri": "https://localhost:8080/"
        },
        "id": "M_cAlV5eZdOX",
        "outputId": "9d0f0cc4-8855-4f02-814d-4223431a9ca0"
      },
      "execution_count": 4,
      "outputs": [
        {
          "output_type": "stream",
          "name": "stdout",
          "text": [
            "Collecting PyMassSpec\n",
            "  Downloading PyMassSpec-2.4.2-py3-none-any.whl (127 kB)\n",
            "\u001b[2K     \u001b[90m━━━━━━━━━━━━━━━━━━━━━━━━━━━━━━━━━━━━━━━━\u001b[0m \u001b[32m127.1/127.1 kB\u001b[0m \u001b[31m3.2 MB/s\u001b[0m eta \u001b[36m0:00:00\u001b[0m\n",
            "\u001b[?25hCollecting biopython>=1.74 (from PyMassSpec)\n",
            "  Downloading biopython-1.83-cp310-cp310-manylinux_2_17_x86_64.manylinux2014_x86_64.whl (3.1 MB)\n",
            "\u001b[2K     \u001b[90m━━━━━━━━━━━━━━━━━━━━━━━━━━━━━━━━━━━━━━━━\u001b[0m \u001b[32m3.1/3.1 MB\u001b[0m \u001b[31m61.1 MB/s\u001b[0m eta \u001b[36m0:00:00\u001b[0m\n",
            "\u001b[?25hCollecting deprecation>=2.1.0 (from PyMassSpec)\n",
            "  Downloading deprecation-2.1.0-py2.py3-none-any.whl (11 kB)\n",
            "Collecting domdf-python-tools>=1.7.0 (from PyMassSpec)\n",
            "  Downloading domdf_python_tools-3.8.0.post2-py3-none-any.whl (127 kB)\n",
            "\u001b[2K     \u001b[90m━━━━━━━━━━━━━━━━━━━━━━━━━━━━━━━━━━━━━━━━\u001b[0m \u001b[32m127.2/127.2 kB\u001b[0m \u001b[31m16.8 MB/s\u001b[0m eta \u001b[36m0:00:00\u001b[0m\n",
            "\u001b[?25hCollecting enum-tools>=0.6.1 (from PyMassSpec)\n",
            "  Downloading enum_tools-0.12.0-py3-none-any.whl (22 kB)\n",
            "Collecting netcdf4>=1.5.0 (from PyMassSpec)\n",
            "  Downloading netCDF4-1.6.5-cp310-cp310-manylinux_2_17_x86_64.manylinux2014_x86_64.whl (5.5 MB)\n",
            "\u001b[2K     \u001b[90m━━━━━━━━━━━━━━━━━━━━━━━━━━━━━━━━━━━━━━━━\u001b[0m \u001b[32m5.5/5.5 MB\u001b[0m \u001b[31m70.7 MB/s\u001b[0m eta \u001b[36m0:00:00\u001b[0m\n",
            "\u001b[?25hRequirement already satisfied: openpyxl>=2.6.2 in /usr/local/lib/python3.10/dist-packages (from PyMassSpec) (3.1.2)\n",
            "Requirement already satisfied: pandas<2.2.0,>=1.0.0 in /usr/local/lib/python3.10/dist-packages (from PyMassSpec) (2.0.3)\n",
            "Collecting pymzml>=2.2.1 (from PyMassSpec)\n",
            "  Downloading pymzml-2.5.9-py3-none-any.whl (17.3 MB)\n",
            "\u001b[2K     \u001b[90m━━━━━━━━━━━━━━━━━━━━━━━━━━━━━━━━━━━━━━━━\u001b[0m \u001b[32m17.3/17.3 MB\u001b[0m \u001b[31m67.1 MB/s\u001b[0m eta \u001b[36m0:00:00\u001b[0m\n",
            "\u001b[?25hRequirement already satisfied: scipy>=1.2.1 in /usr/local/lib/python3.10/dist-packages (from PyMassSpec) (1.11.4)\n",
            "Collecting sdjson>=0.3.0 (from PyMassSpec)\n",
            "  Downloading sdjson-0.4.0-py3-none-any.whl (30 kB)\n",
            "Requirement already satisfied: typing-extensions>=3.7.4.3 in /usr/local/lib/python3.10/dist-packages (from PyMassSpec) (4.11.0)\n",
            "Requirement already satisfied: matplotlib>=3.2.2 in /usr/local/lib/python3.10/dist-packages (from PyMassSpec) (3.7.1)\n",
            "Requirement already satisfied: numpy>=1.19.2 in /usr/local/lib/python3.10/dist-packages (from PyMassSpec) (1.25.2)\n",
            "Requirement already satisfied: packaging in /usr/local/lib/python3.10/dist-packages (from deprecation>=2.1.0->PyMassSpec) (24.0)\n",
            "Requirement already satisfied: natsort>=7.0.1 in /usr/local/lib/python3.10/dist-packages (from domdf-python-tools>=1.7.0->PyMassSpec) (8.4.0)\n",
            "Requirement already satisfied: pygments>=2.6.1 in /usr/local/lib/python3.10/dist-packages (from enum-tools>=0.6.1->PyMassSpec) (2.16.1)\n",
            "Requirement already satisfied: contourpy>=1.0.1 in /usr/local/lib/python3.10/dist-packages (from matplotlib>=3.2.2->PyMassSpec) (1.2.1)\n",
            "Requirement already satisfied: cycler>=0.10 in /usr/local/lib/python3.10/dist-packages (from matplotlib>=3.2.2->PyMassSpec) (0.12.1)\n",
            "Requirement already satisfied: fonttools>=4.22.0 in /usr/local/lib/python3.10/dist-packages (from matplotlib>=3.2.2->PyMassSpec) (4.51.0)\n",
            "Requirement already satisfied: kiwisolver>=1.0.1 in /usr/local/lib/python3.10/dist-packages (from matplotlib>=3.2.2->PyMassSpec) (1.4.5)\n",
            "Requirement already satisfied: pillow>=6.2.0 in /usr/local/lib/python3.10/dist-packages (from matplotlib>=3.2.2->PyMassSpec) (9.4.0)\n",
            "Requirement already satisfied: pyparsing>=2.3.1 in /usr/local/lib/python3.10/dist-packages (from matplotlib>=3.2.2->PyMassSpec) (3.1.2)\n",
            "Requirement already satisfied: python-dateutil>=2.7 in /usr/local/lib/python3.10/dist-packages (from matplotlib>=3.2.2->PyMassSpec) (2.8.2)\n",
            "Collecting cftime (from netcdf4>=1.5.0->PyMassSpec)\n",
            "  Downloading cftime-1.6.3-cp310-cp310-manylinux_2_17_x86_64.manylinux2014_x86_64.whl (1.3 MB)\n",
            "\u001b[2K     \u001b[90m━━━━━━━━━━━━━━━━━━━━━━━━━━━━━━━━━━━━━━━━\u001b[0m \u001b[32m1.3/1.3 MB\u001b[0m \u001b[31m71.3 MB/s\u001b[0m eta \u001b[36m0:00:00\u001b[0m\n",
            "\u001b[?25hRequirement already satisfied: certifi in /usr/local/lib/python3.10/dist-packages (from netcdf4>=1.5.0->PyMassSpec) (2024.2.2)\n",
            "Requirement already satisfied: et-xmlfile in /usr/local/lib/python3.10/dist-packages (from openpyxl>=2.6.2->PyMassSpec) (1.1.0)\n",
            "Requirement already satisfied: pytz>=2020.1 in /usr/local/lib/python3.10/dist-packages (from pandas<2.2.0,>=1.0.0->PyMassSpec) (2023.4)\n",
            "Requirement already satisfied: tzdata>=2022.1 in /usr/local/lib/python3.10/dist-packages (from pandas<2.2.0,>=1.0.0->PyMassSpec) (2024.1)\n",
            "Requirement already satisfied: regex in /usr/local/lib/python3.10/dist-packages (from pymzml>=2.2.1->PyMassSpec) (2023.12.25)\n",
            "Requirement already satisfied: six>=1.5 in /usr/local/lib/python3.10/dist-packages (from python-dateutil>=2.7->matplotlib>=3.2.2->PyMassSpec) (1.16.0)\n",
            "Installing collected packages: pymzml, enum-tools, domdf-python-tools, deprecation, cftime, biopython, sdjson, netcdf4, PyMassSpec\n",
            "Successfully installed PyMassSpec-2.4.2 biopython-1.83 cftime-1.6.3 deprecation-2.1.0 domdf-python-tools-3.8.0.post2 enum-tools-0.12.0 netcdf4-1.6.5 pymzml-2.5.9 sdjson-0.4.0\n"
          ]
        }
      ]
    },
    {
      "cell_type": "markdown",
      "source": [
        "## Mount Google Drive"
      ],
      "metadata": {
        "id": "aUex38kgYAGG"
      }
    },
    {
      "cell_type": "code",
      "source": [
        "from google.colab import drive\n",
        "drive.mount('/content/drive')"
      ],
      "metadata": {
        "colab": {
          "base_uri": "https://localhost:8080/"
        },
        "id": "3_3rpLCBXt1N",
        "outputId": "02d036d9-810e-469e-9be8-43100b341795"
      },
      "execution_count": 2,
      "outputs": [
        {
          "output_type": "stream",
          "name": "stdout",
          "text": [
            "Mounted at /content/drive\n"
          ]
        }
      ]
    },
    {
      "cell_type": "markdown",
      "source": [
        "## 1. GC-MS Raw Data Wragling\n",
        "\n",
        "**Table of Contents**\n",
        "\n",
        "1.1. Introduction\n",
        "\n",
        "1.2. Reading JCAMP GC-MS data\n",
        "\n",
        "1.2.1 A GCMS_data Object\n",
        "\n",
        "1.2.2. A Scan Object\n",
        "\n",
        "1.2.3. Exporting data and obtaining information about a data set\n",
        "\n",
        "1.3. Comparing two GC-MS data sets"
      ],
      "metadata": {
        "id": "RoxUM4ghWyHY"
      }
    },
    {
      "cell_type": "markdown",
      "source": [
        "### 1.1. Introduction\n",
        "\n",
        "PyMassSpec can read gas chromatography-mass spectrometry (GC-MS) data stored in Analytical Data Interchange for Mass Spectrometry (ANDI-MS), 1 and Joint Committee on Atomic and Molecular Physical Data (JCAMP-DX) 2 formats. The information contained in the data files can vary significantly depending on the instrument, vendor’s software, or conversion utility. PyMassSpec makes the following assumptions about the information contained in the data file:\n",
        "\n",
        "The data contain the m/z and intensity value pairs across a scan.\n",
        "\n",
        "Each scan has a retention time.\n",
        "\n",
        "Internally, PyMassSpec stores the raw data from ANDI files or JCAMP files as a GCMS_data object."
      ],
      "metadata": {
        "id": "NEBRBeZpcEOe"
      }
    },
    {
      "cell_type": "markdown",
      "source": [
        "### 1. 2. Reading JCAMP GC-MS data\n",
        "\n",
        "The PyMS package `pyms.GCMS.IO.JCAMP` provides capabilities to read the raw GC-MS data stored in the JCAMP-DX format.\n",
        "\n",
        "First, setup the paths to the datafile and the output directory, then import JCAMP_reader."
      ],
      "metadata": {
        "id": "TZQpMmi4YIDL"
      }
    },
    {
      "cell_type": "code",
      "execution_count": 43,
      "metadata": {
        "id": "oHK1isJFWbfY"
      },
      "outputs": [],
      "source": [
        "import pathlib\n",
        "data_directory =pathlib.Path(\"/content/drive/MyDrive/PyMassSpec_tutorial/data/\")\n",
        "# Change this if the data files are stored in a different location\n",
        "output_directory =pathlib.Path(\"/content/drive/MyDrive/PyMassSpec_tutorial/output/\")"
      ]
    },
    {
      "cell_type": "code",
      "source": [
        "from pyms.GCMS.IO.JCAMP import JCAMP_reader"
      ],
      "metadata": {
        "id": "1bpebKqkcQtJ"
      },
      "execution_count": 25,
      "outputs": []
    },
    {
      "cell_type": "code",
      "source": [
        "jcamp_file = data_directory / \"gc01_0812_066.jdx\"\n",
        "data = JCAMP_reader(jcamp_file)\n",
        "data"
      ],
      "metadata": {
        "colab": {
          "base_uri": "https://localhost:8080/"
        },
        "id": "4yI_mrJfcSC4",
        "outputId": "fcc5ed32-fbcf-4ca9-8b1c-834d3ac00e54"
      },
      "execution_count": 26,
      "outputs": [
        {
          "output_type": "stream",
          "name": "stdout",
          "text": [
            " -> Reading JCAMP file '/content/drive/MyDrive/PyMassSpec_tutorial/data/gc01_0812_066.jdx'\n"
          ]
        },
        {
          "output_type": "execute_result",
          "data": {
            "text/plain": [
              "<GCMS_data(305.582 - 4007.722 seconds, time step 0.3753183292781833, 9865 scans)>"
            ]
          },
          "metadata": {},
          "execution_count": 26
        }
      ]
    },
    {
      "cell_type": "markdown",
      "source": [
        "### 1.2.1. A GCMS data Object\n",
        "The object data (from the two previous examples) stores the raw data as a pyms.GCMS.Class.GCMS_data object. Within the GCMS_data object, raw data are stored as a list of pyms.Spectrum.Scan objects and a list of retention times. There are several methods available to access data and attributes of the GCMS_data and Scan objects.\n",
        "\n",
        "The GCMS_data object’s methods relate to the raw data. The main properties relate to the `masses`, `retention times` and `scans`. For example, the minimum and maximum mass from all of the raw data can be returned by the following:"
      ],
      "metadata": {
        "id": "MQDcKRrXfAgr"
      }
    },
    {
      "cell_type": "code",
      "source": [
        "data.min_mass"
      ],
      "metadata": {
        "colab": {
          "base_uri": "https://localhost:8080/"
        },
        "id": "oedZm0G-fAyL",
        "outputId": "b5fa318b-b49d-4693-dbb7-2f390aa36e57"
      },
      "execution_count": 27,
      "outputs": [
        {
          "output_type": "execute_result",
          "data": {
            "text/plain": [
              "50.0"
            ]
          },
          "metadata": {},
          "execution_count": 27
        }
      ]
    },
    {
      "cell_type": "code",
      "source": [
        "data.max_mass"
      ],
      "metadata": {
        "colab": {
          "base_uri": "https://localhost:8080/"
        },
        "id": "atSqGR4AfIqT",
        "outputId": "a38b56dc-1c4f-4677-b2ec-76576f36bf0b"
      },
      "execution_count": 28,
      "outputs": [
        {
          "output_type": "execute_result",
          "data": {
            "text/plain": [
              "599.9"
            ]
          },
          "metadata": {},
          "execution_count": 28
        }
      ]
    },
    {
      "cell_type": "markdown",
      "source": [
        "A list of the first 10 retention times can be returned with:g"
      ],
      "metadata": {
        "id": "-G7EKpzOfvUl"
      }
    },
    {
      "cell_type": "code",
      "source": [
        "data.time_list[:10]"
      ],
      "metadata": {
        "colab": {
          "base_uri": "https://localhost:8080/"
        },
        "id": "ty4xXJrofwRV",
        "outputId": "1db106b3-1dfc-4183-a664-3830812d391c"
      },
      "execution_count": 29,
      "outputs": [
        {
          "output_type": "execute_result",
          "data": {
            "text/plain": [
              "[305.582,\n",
              " 305.958,\n",
              " 306.333,\n",
              " 306.708,\n",
              " 307.084,\n",
              " 307.459,\n",
              " 307.834,\n",
              " 308.21,\n",
              " 308.585,\n",
              " 308.96]"
            ]
          },
          "metadata": {},
          "execution_count": 29
        }
      ]
    },
    {
      "cell_type": "markdown",
      "source": [
        "The index of a specific retention time (in seconds) can be returned with:"
      ],
      "metadata": {
        "id": "rIr4ym0Rf4ho"
      }
    },
    {
      "cell_type": "code",
      "source": [
        "data.get_index_at_time(400.0)"
      ],
      "metadata": {
        "colab": {
          "base_uri": "https://localhost:8080/"
        },
        "id": "9mGBUd4Df5He",
        "outputId": "63df6cb8-01f5-4b44-ccbf-4b8063c9a00e"
      },
      "execution_count": 30,
      "outputs": [
        {
          "output_type": "execute_result",
          "data": {
            "text/plain": [
              "252"
            ]
          },
          "metadata": {},
          "execution_count": 30
        }
      ]
    },
    {
      "cell_type": "markdown",
      "source": [
        "Note that this returns the index of the retention time in the data closest to the given retention time of 400.0 seconds.\n",
        "\n",
        "The `GCMS_data.tic attribute` returns a total ion chromatogram (TIC) of the data as an `IonChromatogram object`:"
      ],
      "metadata": {
        "id": "SuCRBVnngBlE"
      }
    },
    {
      "cell_type": "code",
      "source": [
        "data.tic"
      ],
      "metadata": {
        "colab": {
          "base_uri": "https://localhost:8080/"
        },
        "id": "KvDdBWrsgC9u",
        "outputId": "e1c81e3a-9e97-4898-b84b-96509f0d96e0"
      },
      "execution_count": 31,
      "outputs": [
        {
          "output_type": "execute_result",
          "data": {
            "text/plain": [
              "<pyms.IonChromatogram.IonChromatogram at 0x7d1489ec4e80>"
            ]
          },
          "metadata": {},
          "execution_count": 31
        }
      ]
    },
    {
      "cell_type": "markdown",
      "source": [
        "***Models an ion chromatogram***.\n",
        "\n",
        "An ion chromatogram is a set of intensities as a function of retention time. This can can be either `m/z` channel intensities (for example, ion chromatograms at `m/z = 65`), or cumulative intensities over all measured `m/z`. In the latter case the ion chromatogram is total ion chromatogram (TIC).\n",
        "\n",
        "The nature of an IonChromatogram object can be revealed by inspecting the value of the attribute ‘mass’. This is set to the `m/z` value of the ion chromatogram, or to None for TIC."
      ],
      "metadata": {
        "id": "DoVndNJogHwm"
      }
    },
    {
      "cell_type": "markdown",
      "source": [
        "### 1.2.2. A Scan Object\n",
        "\n",
        "A `pyms.Spectrum.Scan` object contains a list of masses and a corresponding list of intensity values from a single mass-spectrum scan in the raw data. Typically only non-zero (or non-threshold) intensities and corresponding masses are stored in the raw data.\n",
        "\n",
        "A list of the first 10 `pyms.Spectrum.Scan` objects can be returned with:"
      ],
      "metadata": {
        "id": "TpMjI0SXgMPy"
      }
    },
    {
      "cell_type": "code",
      "source": [
        "scans = data.scan_list\n",
        "scans[:10]"
      ],
      "metadata": {
        "colab": {
          "base_uri": "https://localhost:8080/"
        },
        "id": "Kr6jP7isgLdQ",
        "outputId": "62b28f9a-b526-4e83-b330-026d1e91526c"
      },
      "execution_count": 34,
      "outputs": [
        {
          "output_type": "execute_result",
          "data": {
            "text/plain": [
              "[<pyms.Spectrum.Scan at 0x7d1488635690>,\n",
              " <pyms.Spectrum.Scan at 0x7d1488635720>,\n",
              " <pyms.Spectrum.Scan at 0x7d14886358d0>,\n",
              " <pyms.Spectrum.Scan at 0x7d1488635cf0>,\n",
              " <pyms.Spectrum.Scan at 0x7d1488635db0>,\n",
              " <pyms.Spectrum.Scan at 0x7d1488635e70>,\n",
              " <pyms.Spectrum.Scan at 0x7d1488635f30>,\n",
              " <pyms.Spectrum.Scan at 0x7d1488635c30>,\n",
              " <pyms.Spectrum.Scan at 0x7d1488635ea0>,\n",
              " <pyms.Spectrum.Scan at 0x7d1488635b70>]"
            ]
          },
          "metadata": {},
          "execution_count": 34
        }
      ]
    },
    {
      "cell_type": "markdown",
      "source": [
        "A list of the first 10 masses in a scan (e.g. the 1st scan) is returned with:"
      ],
      "metadata": {
        "id": "XrQGstLrgV-J"
      }
    },
    {
      "cell_type": "code",
      "source": [
        "scans[0].mass_list[:10]"
      ],
      "metadata": {
        "colab": {
          "base_uri": "https://localhost:8080/"
        },
        "id": "c3AV5CFEgcm1",
        "outputId": "1e677236-4b87-480a-a147-28c85c06fab9"
      },
      "execution_count": 35,
      "outputs": [
        {
          "output_type": "execute_result",
          "data": {
            "text/plain": [
              "[50.1, 51.1, 53.1, 54.2, 55.1, 56.2, 57.2, 58.2, 59.1, 60.1]"
            ]
          },
          "metadata": {},
          "execution_count": 35
        }
      ]
    },
    {
      "cell_type": "markdown",
      "source": [
        "A list of the first 10 corresponding intensities in a scan is returned with:"
      ],
      "metadata": {
        "id": "f-HPFv7eggnF"
      }
    },
    {
      "cell_type": "code",
      "source": [
        "scans[0].intensity_list[:10]"
      ],
      "metadata": {
        "colab": {
          "base_uri": "https://localhost:8080/"
        },
        "id": "lEECImKmgIY8",
        "outputId": "bfebbbd8-f208-4fce-e78d-d28a73d5ba5a"
      },
      "execution_count": 33,
      "outputs": [
        {
          "output_type": "execute_result",
          "data": {
            "text/plain": [
              "[22128.0,\n",
              " 10221.0,\n",
              " 31400.0,\n",
              " 27352.0,\n",
              " 65688.0,\n",
              " 55416.0,\n",
              " 75192.0,\n",
              " 112688.0,\n",
              " 152256.0,\n",
              " 21896.0]"
            ]
          },
          "metadata": {},
          "execution_count": 33
        }
      ]
    },
    {
      "cell_type": "markdown",
      "source": [
        "The minimum and maximum mass in an individual scan (e.g. the 1st scan) are returned with:"
      ],
      "metadata": {
        "id": "2egKiwQGglDN"
      }
    },
    {
      "cell_type": "code",
      "source": [
        "scans[0].min_mass"
      ],
      "metadata": {
        "colab": {
          "base_uri": "https://localhost:8080/"
        },
        "id": "MmjkEVG9glra",
        "outputId": "68da2b9e-8503-4abd-a65b-96e74a67fe84"
      },
      "execution_count": 36,
      "outputs": [
        {
          "output_type": "execute_result",
          "data": {
            "text/plain": [
              "50.1"
            ]
          },
          "metadata": {},
          "execution_count": 36
        }
      ]
    },
    {
      "cell_type": "code",
      "source": [
        "scans[0].max_mass"
      ],
      "metadata": {
        "colab": {
          "base_uri": "https://localhost:8080/"
        },
        "id": "roaqI4ftgl3N",
        "outputId": "f444e4e7-2d36-4835-e98d-527d199661ac"
      },
      "execution_count": 37,
      "outputs": [
        {
          "output_type": "execute_result",
          "data": {
            "text/plain": [
              "599.4"
            ]
          },
          "metadata": {},
          "execution_count": 37
        }
      ]
    },
    {
      "cell_type": "markdown",
      "source": [
        "### 1.2.3. Exporting data and obtaining information about a data set\n",
        "\n",
        "Often it is of interest to find out some basic information about the data set, e.g. the number of scans, the retention time range, and m/z range and so on. The `GCMS_data` class provides a method `info()` that can be used for this purpose."
      ],
      "metadata": {
        "id": "I2mvSeKGguEU"
      }
    },
    {
      "cell_type": "code",
      "source": [
        "data.info()"
      ],
      "metadata": {
        "colab": {
          "base_uri": "https://localhost:8080/"
        },
        "id": "_Usd0rV2gu5C",
        "outputId": "1ff192a8-7694-4e82-fe4d-824aa0a056d4"
      },
      "execution_count": 38,
      "outputs": [
        {
          "output_type": "stream",
          "name": "stdout",
          "text": [
            " Data retention time range: 5.093 min -- 66.795 min\n",
            " Time step: 0.375 s (std=0.000 s)\n",
            " Number of scans: 9865\n",
            " Minimum m/z measured: 50.000\n",
            " Maximum m/z measured: 599.900\n",
            " Mean number of m/z values per scan: 56\n",
            " Median number of m/z values per scan: 40\n"
          ]
        }
      ]
    },
    {
      "cell_type": "markdown",
      "source": [
        "The entire raw data of a GCMS_data object can be exported to a file with the method `write()`:"
      ],
      "metadata": {
        "id": "wIuAg0n2g0Q7"
      }
    },
    {
      "cell_type": "code",
      "source": [],
      "metadata": {
        "id": "2TdfYTnlhrj5"
      },
      "execution_count": null,
      "outputs": []
    },
    {
      "cell_type": "code",
      "source": [
        "data.write(output_directory/\"data\")"
      ],
      "metadata": {
        "colab": {
          "base_uri": "https://localhost:8080/"
        },
        "id": "ejRtpmh2g1Ae",
        "outputId": "1f345a36-d5d3-4431-9ea3-254b90398a31"
      },
      "execution_count": 44,
      "outputs": [
        {
          "output_type": "stream",
          "name": "stdout",
          "text": [
            " -> Writing intensities to '/content/drive/MyDrive/PyMassSpec_tutorial/output/data.I.csv'\n",
            " -> Writing m/z values to '/content/drive/MyDrive/PyMassSpec_tutorial/output/data.mz.csv'\n"
          ]
        }
      ]
    },
    {
      "cell_type": "markdown",
      "source": [
        "This method takes the filename (“output/data”, in this example) and writes two CSV files. One has extension “.I.csv” and contains the intensities (“output/data.I.csv” in this example), and the other has the extension “.mz” and contains the corresponding table of m/z value (“output/data.mz.csv” in this example). In general, these are not two-dimensional matrices, because different scans may have different number of m/z values recorded."
      ],
      "metadata": {
        "id": "fqKriQ0zhit4"
      }
    },
    {
      "cell_type": "markdown",
      "source": [
        "## 1.3. Comparing two GC-MS data sets"
      ],
      "metadata": {
        "id": "naOziJQBhjtH"
      }
    },
    {
      "cell_type": "markdown",
      "source": [
        "Occasionally it is useful to compare two data sets. For example, one may want to check the consistency between the data set exported in netCDF format from the manufacturer’s software, and the JCAMP format exported from a third party software.\n",
        "\n",
        "* **ANDI-MS** was developed by the Analytical Instrument Association\n",
        "\n",
        "* **JCAMP-DX** is maintained by the International Union of Pure and Applied Chemistry\n",
        "\n",
        "First, import `JCAMP_reader` and `ANDI_reader`."
      ],
      "metadata": {
        "id": "MBSFiPGehq51"
      }
    },
    {
      "cell_type": "code",
      "source": [
        "from pyms.GCMS.IO.JCAMP import JCAMP_reader\n",
        "from pyms.GCMS.IO.ANDI import ANDI_reader"
      ],
      "metadata": {
        "id": "TGLJiIEQhsnP"
      },
      "execution_count": 45,
      "outputs": []
    },
    {
      "cell_type": "markdown",
      "source": [
        "Then the raw data is read as before."
      ],
      "metadata": {
        "id": "aRA5FD4Rhxed"
      }
    },
    {
      "cell_type": "code",
      "source": [
        "andi_file = data_directory / \"gc01_0812_066.cdf\"\n",
        "data1 = ANDI_reader(andi_file)\n",
        "data1"
      ],
      "metadata": {
        "colab": {
          "base_uri": "https://localhost:8080/"
        },
        "id": "6nFGMNrahwPB",
        "outputId": "a2f69049-a5bc-4ef5-8c7b-fc1cac12f9d5"
      },
      "execution_count": 46,
      "outputs": [
        {
          "output_type": "stream",
          "name": "stdout",
          "text": [
            " -> Reading netCDF file '/content/drive/MyDrive/PyMassSpec_tutorial/data/gc01_0812_066.cdf'\n"
          ]
        },
        {
          "output_type": "execute_result",
          "data": {
            "text/plain": [
              "<GCMS_data(305.582 - 4007.721 seconds, time step 0.37531822789943226, 9865 scans)>"
            ]
          },
          "metadata": {},
          "execution_count": 46
        }
      ]
    },
    {
      "cell_type": "code",
      "source": [
        "jcamp_file = data_directory / \"gc01_0812_066.jdx\"\n",
        "data2 = JCAMP_reader(jcamp_file)\n",
        "data2"
      ],
      "metadata": {
        "colab": {
          "base_uri": "https://localhost:8080/"
        },
        "id": "h2X9BI1-h48g",
        "outputId": "68a55988-3d7c-416e-a9c3-3561717f4fde"
      },
      "execution_count": 47,
      "outputs": [
        {
          "output_type": "stream",
          "name": "stdout",
          "text": [
            " -> Reading JCAMP file '/content/drive/MyDrive/PyMassSpec_tutorial/data/gc01_0812_066.jdx'\n"
          ]
        },
        {
          "output_type": "execute_result",
          "data": {
            "text/plain": [
              "<GCMS_data(305.582 - 4007.722 seconds, time step 0.3753183292781833, 9865 scans)>"
            ]
          },
          "metadata": {},
          "execution_count": 47
        }
      ]
    },
    {
      "cell_type": "markdown",
      "source": [
        "To compare the two data sets, use the function `diff()`"
      ],
      "metadata": {
        "id": "EWM7i09Ah8pe"
      }
    },
    {
      "cell_type": "code",
      "source": [
        "from pyms.GCMS.Function import diff\n",
        "diff(data1, data2)"
      ],
      "metadata": {
        "colab": {
          "base_uri": "https://localhost:8080/"
        },
        "id": "XsGexy6hh-2c",
        "outputId": "a39fd93f-d528-4516-ffe8-e156ce76e36b"
      },
      "execution_count": 48,
      "outputs": [
        {
          "output_type": "stream",
          "name": "stdout",
          "text": [
            " Data sets have the same number of time points.\n",
            "   Time RMSD: 3.54e-04\n",
            " Checking for consistency in scan lengths ...OK\n",
            " Calculating maximum RMSD for m/z values and intensities ...\n",
            "   Max m/z RMSD: 1.03e-05\n",
            "   Max intensity RMSD: 0.00e+00\n"
          ]
        }
      ]
    },
    {
      "cell_type": "markdown",
      "source": [
        "If the data cannot be compared, for example because of different number of scans, or inconsistent number of m/z values in between two scans, `diff()` will report the difference. For example:"
      ],
      "metadata": {
        "id": "dXi3SErviDt8"
      }
    },
    {
      "cell_type": "code",
      "source": [
        "data2.trim(begin=1000, end=2000)"
      ],
      "metadata": {
        "colab": {
          "base_uri": "https://localhost:8080/"
        },
        "id": "2cNpSs6SiH8N",
        "outputId": "286013a6-ba97-4e02-a0c3-30b904db08d1"
      },
      "execution_count": 49,
      "outputs": [
        {
          "output_type": "stream",
          "name": "stdout",
          "text": [
            "Trimming data to between 1000 and 2001 scans\n"
          ]
        }
      ]
    },
    {
      "cell_type": "code",
      "source": [
        "diff(data1, data2)"
      ],
      "metadata": {
        "colab": {
          "base_uri": "https://localhost:8080/"
        },
        "id": "C0Kz4FpxiNSi",
        "outputId": "d9b00f1e-fdf8-4b23-a1de-b6c79508613b"
      },
      "execution_count": 50,
      "outputs": [
        {
          "output_type": "stream",
          "name": "stdout",
          "text": [
            " The number of retention time points differ.\n",
            "\tFirst data set: 9865 time points\n",
            "\tSecond data set: 1002 time points\n",
            " Data sets are different.\n"
          ]
        }
      ]
    }
  ]
}